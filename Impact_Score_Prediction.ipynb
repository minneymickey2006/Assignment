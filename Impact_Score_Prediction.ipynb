{
 "cells": [
  {
   "cell_type": "code",
   "execution_count": 1,
   "metadata": {},
   "outputs": [],
   "source": [
    "#Importing libraries \n",
    "import pandas as pd\n",
    "import numpy as np\n",
    "import seaborn as sns\n",
    "import warnings\n",
    "warnings.filterwarnings('ignore')"
   ]
  },
  {
   "cell_type": "code",
   "execution_count": 2,
   "metadata": {},
   "outputs": [],
   "source": [
    "df=pd.read_csv(\"twitter.csv\")"
   ]
  },
  {
   "cell_type": "code",
   "execution_count": 3,
   "metadata": {},
   "outputs": [
    {
     "data": {
      "text/html": [
       "<div>\n",
       "<style scoped>\n",
       "    .dataframe tbody tr th:only-of-type {\n",
       "        vertical-align: middle;\n",
       "    }\n",
       "\n",
       "    .dataframe tbody tr th {\n",
       "        vertical-align: top;\n",
       "    }\n",
       "\n",
       "    .dataframe thead th {\n",
       "        text-align: right;\n",
       "    }\n",
       "</style>\n",
       "<table border=\"1\" class=\"dataframe\">\n",
       "  <thead>\n",
       "    <tr style=\"text-align: right;\">\n",
       "      <th></th>\n",
       "      <th>Unnamed: 0</th>\n",
       "      <th>Id</th>\n",
       "      <th>Post Contet</th>\n",
       "      <th>Sentiment score</th>\n",
       "      <th>Post Length</th>\n",
       "      <th>Hashtag count</th>\n",
       "      <th>Content URL count</th>\n",
       "      <th>Tweet count</th>\n",
       "      <th>Followers count</th>\n",
       "      <th>Listed Count</th>\n",
       "      <th>Media Type</th>\n",
       "      <th>Published DateTime</th>\n",
       "      <th>Mentions Count</th>\n",
       "      <th>Post author verified</th>\n",
       "      <th>Likes</th>\n",
       "      <th>Shares</th>\n",
       "      <th>Comments</th>\n",
       "      <th>Impact</th>\n",
       "    </tr>\n",
       "  </thead>\n",
       "  <tbody>\n",
       "    <tr>\n",
       "      <th>0</th>\n",
       "      <td>41370</td>\n",
       "      <td>6d967b125fcecba6357dbc43f8f380cf2d6d7a51</td>\n",
       "      <td>Sana all na lang.</td>\n",
       "      <td>0.0</td>\n",
       "      <td>17.0</td>\n",
       "      <td>0.0</td>\n",
       "      <td>0.0</td>\n",
       "      <td>1660.0</td>\n",
       "      <td>133.0</td>\n",
       "      <td>0</td>\n",
       "      <td>TEXT</td>\n",
       "      <td>2021-01-28 12:17:24+00:00</td>\n",
       "      <td>0.0</td>\n",
       "      <td>0.0</td>\n",
       "      <td>0.0</td>\n",
       "      <td>0.0</td>\n",
       "      <td>0.0</td>\n",
       "      <td>0.0</td>\n",
       "    </tr>\n",
       "    <tr>\n",
       "      <th>1</th>\n",
       "      <td>27955</td>\n",
       "      <td>22dc5f808a8589186767412f39e5c88ae9753d04</td>\n",
       "      <td>キスマイ玉森裕太「ボス恋」台本の裏話明かす\\n\\n@TBS_asachan @bosskoi...</td>\n",
       "      <td>19.3</td>\n",
       "      <td>84.0</td>\n",
       "      <td>0.0</td>\n",
       "      <td>1.0</td>\n",
       "      <td>318924.0</td>\n",
       "      <td>1428273.0</td>\n",
       "      <td>5454</td>\n",
       "      <td>TEXT</td>\n",
       "      <td>2021-02-24 06:51:02+00:00</td>\n",
       "      <td>0.0</td>\n",
       "      <td>1.0</td>\n",
       "      <td>10.0</td>\n",
       "      <td>1.0</td>\n",
       "      <td>0.0</td>\n",
       "      <td>110.0</td>\n",
       "    </tr>\n",
       "    <tr>\n",
       "      <th>2</th>\n",
       "      <td>38151</td>\n",
       "      <td>7f224e66ad757e3066d45947881bcaab91f8e57f</td>\n",
       "      <td>SuperM’s album isn’t even out yet and there’s ...</td>\n",
       "      <td>0.0</td>\n",
       "      <td>78.0</td>\n",
       "      <td>0.0</td>\n",
       "      <td>0.0</td>\n",
       "      <td>39976.0</td>\n",
       "      <td>1560.0</td>\n",
       "      <td>0</td>\n",
       "      <td>TEXT</td>\n",
       "      <td>2020-09-15 01:16:32+00:00</td>\n",
       "      <td>0.0</td>\n",
       "      <td>0.0</td>\n",
       "      <td>0.0</td>\n",
       "      <td>0.0</td>\n",
       "      <td>0.0</td>\n",
       "      <td>0.0</td>\n",
       "    </tr>\n",
       "    <tr>\n",
       "      <th>3</th>\n",
       "      <td>13558</td>\n",
       "      <td>5acc220e7a337efafc4c847b7f74680ca2515890</td>\n",
       "      <td>மத்திய அரசின் நலத்திட்டங்களை மக்களுக்கு சென்று...</td>\n",
       "      <td>0.0</td>\n",
       "      <td>284.0</td>\n",
       "      <td>2.0</td>\n",
       "      <td>0.0</td>\n",
       "      <td>8045.0</td>\n",
       "      <td>27191.0</td>\n",
       "      <td>26</td>\n",
       "      <td>TEXT</td>\n",
       "      <td>2021-02-14 03:53:53+00:00</td>\n",
       "      <td>0.0</td>\n",
       "      <td>1.0</td>\n",
       "      <td>460.0</td>\n",
       "      <td>219.0</td>\n",
       "      <td>4.0</td>\n",
       "      <td>6830.0</td>\n",
       "    </tr>\n",
       "    <tr>\n",
       "      <th>4</th>\n",
       "      <td>17071</td>\n",
       "      <td>863abf834897a06afdc459788b34abeae6298f3a</td>\n",
       "      <td>【熊本県人吉市】球磨川氾濫後のくま川鉄道の線路被害状況 hamusoku.com/archi...</td>\n",
       "      <td>-20.0</td>\n",
       "      <td>80.0</td>\n",
       "      <td>0.0</td>\n",
       "      <td>1.0</td>\n",
       "      <td>210996.0</td>\n",
       "      <td>2385.0</td>\n",
       "      <td>0</td>\n",
       "      <td>IMAGE</td>\n",
       "      <td>2020-07-04 13:06:16+00:00</td>\n",
       "      <td>0.0</td>\n",
       "      <td>0.0</td>\n",
       "      <td>0.0</td>\n",
       "      <td>0.0</td>\n",
       "      <td>0.0</td>\n",
       "      <td>0.0</td>\n",
       "    </tr>\n",
       "  </tbody>\n",
       "</table>\n",
       "</div>"
      ],
      "text/plain": [
       "   Unnamed: 0                                        Id  \\\n",
       "0       41370  6d967b125fcecba6357dbc43f8f380cf2d6d7a51   \n",
       "1       27955  22dc5f808a8589186767412f39e5c88ae9753d04   \n",
       "2       38151  7f224e66ad757e3066d45947881bcaab91f8e57f   \n",
       "3       13558  5acc220e7a337efafc4c847b7f74680ca2515890   \n",
       "4       17071  863abf834897a06afdc459788b34abeae6298f3a   \n",
       "\n",
       "                                         Post Contet  Sentiment score  \\\n",
       "0                                  Sana all na lang.              0.0   \n",
       "1  キスマイ玉森裕太「ボス恋」台本の裏話明かす\\n\\n@TBS_asachan @bosskoi...             19.3   \n",
       "2  SuperM’s album isn’t even out yet and there’s ...              0.0   \n",
       "3  மத்திய அரசின் நலத்திட்டங்களை மக்களுக்கு சென்று...              0.0   \n",
       "4  【熊本県人吉市】球磨川氾濫後のくま川鉄道の線路被害状況 hamusoku.com/archi...            -20.0   \n",
       "\n",
       "   Post Length  Hashtag count  Content URL count  Tweet count  \\\n",
       "0         17.0            0.0                0.0       1660.0   \n",
       "1         84.0            0.0                1.0     318924.0   \n",
       "2         78.0            0.0                0.0      39976.0   \n",
       "3        284.0            2.0                0.0       8045.0   \n",
       "4         80.0            0.0                1.0     210996.0   \n",
       "\n",
       "   Followers count  Listed Count Media Type         Published DateTime  \\\n",
       "0            133.0             0       TEXT  2021-01-28 12:17:24+00:00   \n",
       "1        1428273.0          5454       TEXT  2021-02-24 06:51:02+00:00   \n",
       "2           1560.0             0       TEXT  2020-09-15 01:16:32+00:00   \n",
       "3          27191.0            26       TEXT  2021-02-14 03:53:53+00:00   \n",
       "4           2385.0             0      IMAGE  2020-07-04 13:06:16+00:00   \n",
       "\n",
       "   Mentions Count  Post author verified  Likes  Shares  Comments  Impact  \n",
       "0             0.0                   0.0    0.0     0.0       0.0     0.0  \n",
       "1             0.0                   1.0   10.0     1.0       0.0   110.0  \n",
       "2             0.0                   0.0    0.0     0.0       0.0     0.0  \n",
       "3             0.0                   1.0  460.0   219.0       4.0  6830.0  \n",
       "4             0.0                   0.0    0.0     0.0       0.0     0.0  "
      ]
     },
     "execution_count": 3,
     "metadata": {},
     "output_type": "execute_result"
    }
   ],
   "source": [
    "df.head()"
   ]
  },
  {
   "cell_type": "code",
   "execution_count": 4,
   "metadata": {},
   "outputs": [
    {
     "data": {
      "text/html": [
       "<div>\n",
       "<style scoped>\n",
       "    .dataframe tbody tr th:only-of-type {\n",
       "        vertical-align: middle;\n",
       "    }\n",
       "\n",
       "    .dataframe tbody tr th {\n",
       "        vertical-align: top;\n",
       "    }\n",
       "\n",
       "    .dataframe thead th {\n",
       "        text-align: right;\n",
       "    }\n",
       "</style>\n",
       "<table border=\"1\" class=\"dataframe\">\n",
       "  <thead>\n",
       "    <tr style=\"text-align: right;\">\n",
       "      <th></th>\n",
       "      <th>Unnamed: 0</th>\n",
       "      <th>Sentiment score</th>\n",
       "      <th>Post Length</th>\n",
       "      <th>Hashtag count</th>\n",
       "      <th>Content URL count</th>\n",
       "      <th>Tweet count</th>\n",
       "      <th>Followers count</th>\n",
       "      <th>Listed Count</th>\n",
       "      <th>Mentions Count</th>\n",
       "      <th>Post author verified</th>\n",
       "      <th>Likes</th>\n",
       "      <th>Shares</th>\n",
       "      <th>Comments</th>\n",
       "      <th>Impact</th>\n",
       "    </tr>\n",
       "  </thead>\n",
       "  <tbody>\n",
       "    <tr>\n",
       "      <th>count</th>\n",
       "      <td>50000.000000</td>\n",
       "      <td>50000.000000</td>\n",
       "      <td>50000.000000</td>\n",
       "      <td>50000.000000</td>\n",
       "      <td>50000.000000</td>\n",
       "      <td>5.000000e+04</td>\n",
       "      <td>5.000000e+04</td>\n",
       "      <td>50000.000000</td>\n",
       "      <td>50000.000000</td>\n",
       "      <td>50000.000000</td>\n",
       "      <td>50000.0000</td>\n",
       "      <td>50000.000000</td>\n",
       "      <td>50000.000000</td>\n",
       "      <td>50000.000000</td>\n",
       "    </tr>\n",
       "    <tr>\n",
       "      <th>mean</th>\n",
       "      <td>14193.578860</td>\n",
       "      <td>1.068916</td>\n",
       "      <td>154.692360</td>\n",
       "      <td>0.687520</td>\n",
       "      <td>0.480260</td>\n",
       "      <td>2.414257e+05</td>\n",
       "      <td>4.648759e+06</td>\n",
       "      <td>10069.683200</td>\n",
       "      <td>0.113720</td>\n",
       "      <td>0.626480</td>\n",
       "      <td>3020.7063</td>\n",
       "      <td>966.773260</td>\n",
       "      <td>16.407920</td>\n",
       "      <td>40038.735600</td>\n",
       "    </tr>\n",
       "    <tr>\n",
       "      <th>std</th>\n",
       "      <td>10363.500433</td>\n",
       "      <td>10.436746</td>\n",
       "      <td>79.099411</td>\n",
       "      <td>1.346979</td>\n",
       "      <td>0.526019</td>\n",
       "      <td>1.607467e+06</td>\n",
       "      <td>1.254513e+07</td>\n",
       "      <td>28384.958681</td>\n",
       "      <td>0.512984</td>\n",
       "      <td>0.483743</td>\n",
       "      <td>8261.9454</td>\n",
       "      <td>3117.212706</td>\n",
       "      <td>543.669304</td>\n",
       "      <td>103075.779094</td>\n",
       "    </tr>\n",
       "    <tr>\n",
       "      <th>min</th>\n",
       "      <td>0.000000</td>\n",
       "      <td>-20.000000</td>\n",
       "      <td>1.000000</td>\n",
       "      <td>0.000000</td>\n",
       "      <td>0.000000</td>\n",
       "      <td>0.000000e+00</td>\n",
       "      <td>0.000000e+00</td>\n",
       "      <td>0.000000</td>\n",
       "      <td>0.000000</td>\n",
       "      <td>0.000000</td>\n",
       "      <td>0.0000</td>\n",
       "      <td>0.000000</td>\n",
       "      <td>0.000000</td>\n",
       "      <td>0.000000</td>\n",
       "    </tr>\n",
       "    <tr>\n",
       "      <th>25%</th>\n",
       "      <td>6017.000000</td>\n",
       "      <td>0.000000</td>\n",
       "      <td>94.000000</td>\n",
       "      <td>0.000000</td>\n",
       "      <td>0.000000</td>\n",
       "      <td>1.123775e+04</td>\n",
       "      <td>1.053900e+04</td>\n",
       "      <td>2.000000</td>\n",
       "      <td>0.000000</td>\n",
       "      <td>0.000000</td>\n",
       "      <td>1.0000</td>\n",
       "      <td>0.000000</td>\n",
       "      <td>0.000000</td>\n",
       "      <td>10.000000</td>\n",
       "    </tr>\n",
       "    <tr>\n",
       "      <th>50%</th>\n",
       "      <td>12076.500000</td>\n",
       "      <td>0.000000</td>\n",
       "      <td>142.000000</td>\n",
       "      <td>0.000000</td>\n",
       "      <td>0.000000</td>\n",
       "      <td>5.273800e+04</td>\n",
       "      <td>3.551225e+05</td>\n",
       "      <td>555.500000</td>\n",
       "      <td>0.000000</td>\n",
       "      <td>1.000000</td>\n",
       "      <td>153.0000</td>\n",
       "      <td>42.000000</td>\n",
       "      <td>0.000000</td>\n",
       "      <td>2100.000000</td>\n",
       "    </tr>\n",
       "    <tr>\n",
       "      <th>75%</th>\n",
       "      <td>20650.250000</td>\n",
       "      <td>0.000000</td>\n",
       "      <td>215.000000</td>\n",
       "      <td>1.000000</td>\n",
       "      <td>1.000000</td>\n",
       "      <td>2.595015e+05</td>\n",
       "      <td>2.809978e+06</td>\n",
       "      <td>6171.000000</td>\n",
       "      <td>0.000000</td>\n",
       "      <td>1.000000</td>\n",
       "      <td>1909.0000</td>\n",
       "      <td>559.000000</td>\n",
       "      <td>0.000000</td>\n",
       "      <td>27500.000000</td>\n",
       "    </tr>\n",
       "    <tr>\n",
       "      <th>max</th>\n",
       "      <td>43879.000000</td>\n",
       "      <td>20.000000</td>\n",
       "      <td>373.000000</td>\n",
       "      <td>21.000000</td>\n",
       "      <td>7.000000</td>\n",
       "      <td>5.044408e+07</td>\n",
       "      <td>1.144406e+08</td>\n",
       "      <td>568139.000000</td>\n",
       "      <td>12.000000</td>\n",
       "      <td>1.000000</td>\n",
       "      <td>90919.0000</td>\n",
       "      <td>79671.000000</td>\n",
       "      <td>66939.000000</td>\n",
       "      <td>997980.000000</td>\n",
       "    </tr>\n",
       "  </tbody>\n",
       "</table>\n",
       "</div>"
      ],
      "text/plain": [
       "         Unnamed: 0  Sentiment score   Post Length  Hashtag count  \\\n",
       "count  50000.000000     50000.000000  50000.000000   50000.000000   \n",
       "mean   14193.578860         1.068916    154.692360       0.687520   \n",
       "std    10363.500433        10.436746     79.099411       1.346979   \n",
       "min        0.000000       -20.000000      1.000000       0.000000   \n",
       "25%     6017.000000         0.000000     94.000000       0.000000   \n",
       "50%    12076.500000         0.000000    142.000000       0.000000   \n",
       "75%    20650.250000         0.000000    215.000000       1.000000   \n",
       "max    43879.000000        20.000000    373.000000      21.000000   \n",
       "\n",
       "       Content URL count   Tweet count  Followers count   Listed Count  \\\n",
       "count       50000.000000  5.000000e+04     5.000000e+04   50000.000000   \n",
       "mean            0.480260  2.414257e+05     4.648759e+06   10069.683200   \n",
       "std             0.526019  1.607467e+06     1.254513e+07   28384.958681   \n",
       "min             0.000000  0.000000e+00     0.000000e+00       0.000000   \n",
       "25%             0.000000  1.123775e+04     1.053900e+04       2.000000   \n",
       "50%             0.000000  5.273800e+04     3.551225e+05     555.500000   \n",
       "75%             1.000000  2.595015e+05     2.809978e+06    6171.000000   \n",
       "max             7.000000  5.044408e+07     1.144406e+08  568139.000000   \n",
       "\n",
       "       Mentions Count  Post author verified       Likes        Shares  \\\n",
       "count    50000.000000          50000.000000  50000.0000  50000.000000   \n",
       "mean         0.113720              0.626480   3020.7063    966.773260   \n",
       "std          0.512984              0.483743   8261.9454   3117.212706   \n",
       "min          0.000000              0.000000      0.0000      0.000000   \n",
       "25%          0.000000              0.000000      1.0000      0.000000   \n",
       "50%          0.000000              1.000000    153.0000     42.000000   \n",
       "75%          0.000000              1.000000   1909.0000    559.000000   \n",
       "max         12.000000              1.000000  90919.0000  79671.000000   \n",
       "\n",
       "           Comments         Impact  \n",
       "count  50000.000000   50000.000000  \n",
       "mean      16.407920   40038.735600  \n",
       "std      543.669304  103075.779094  \n",
       "min        0.000000       0.000000  \n",
       "25%        0.000000      10.000000  \n",
       "50%        0.000000    2100.000000  \n",
       "75%        0.000000   27500.000000  \n",
       "max    66939.000000  997980.000000  "
      ]
     },
     "execution_count": 4,
     "metadata": {},
     "output_type": "execute_result"
    }
   ],
   "source": [
    "df.describe()"
   ]
  },
  {
   "cell_type": "code",
   "execution_count": 5,
   "metadata": {},
   "outputs": [
    {
     "name": "stdout",
     "output_type": "stream",
     "text": [
      "<class 'pandas.core.frame.DataFrame'>\n",
      "RangeIndex: 50000 entries, 0 to 49999\n",
      "Data columns (total 18 columns):\n",
      " #   Column                Non-Null Count  Dtype  \n",
      "---  ------                --------------  -----  \n",
      " 0   Unnamed: 0            50000 non-null  int64  \n",
      " 1   Id                    50000 non-null  object \n",
      " 2   Post Contet           50000 non-null  object \n",
      " 3   Sentiment score       50000 non-null  float64\n",
      " 4   Post Length           50000 non-null  float64\n",
      " 5   Hashtag count         50000 non-null  float64\n",
      " 6   Content URL count     50000 non-null  float64\n",
      " 7   Tweet count           50000 non-null  float64\n",
      " 8   Followers count       50000 non-null  float64\n",
      " 9   Listed Count          50000 non-null  int64  \n",
      " 10  Media Type            50000 non-null  object \n",
      " 11  Published DateTime    50000 non-null  object \n",
      " 12  Mentions Count        50000 non-null  float64\n",
      " 13  Post author verified  50000 non-null  float64\n",
      " 14  Likes                 50000 non-null  float64\n",
      " 15  Shares                50000 non-null  float64\n",
      " 16  Comments              50000 non-null  float64\n",
      " 17  Impact                50000 non-null  float64\n",
      "dtypes: float64(12), int64(2), object(4)\n",
      "memory usage: 6.9+ MB\n"
     ]
    }
   ],
   "source": [
    "df.info()"
   ]
  },
  {
   "cell_type": "code",
   "execution_count": 6,
   "metadata": {},
   "outputs": [
    {
     "data": {
      "text/plain": [
       "<matplotlib.axes._subplots.AxesSubplot at 0x22843af4048>"
      ]
     },
     "execution_count": 6,
     "metadata": {},
     "output_type": "execute_result"
    },
    {
     "data": {
      "image/png": "[encoded data removed]",
      "text/plain": [
       "<Figure size 432x288 with 1 Axes>"
      ]
     },
     "metadata": {
      "needs_background": "light"
     },
     "output_type": "display_data"
    }
   ],
   "source": [
    "#Exploratory Data Analysis\n",
    "sns.lineplot(x=\"Sentiment score\",y=\"Impact\",data=df)"
   ]
  },
  {
   "cell_type": "code",
   "execution_count": 7,
   "metadata": {
    "scrolled": true
   },
   "outputs": [
    {
     "data": {
      "text/plain": [
       "<matplotlib.axes._subplots.AxesSubplot at 0x228444a3888>"
      ]
     },
     "execution_count": 7,
     "metadata": {},
     "output_type": "execute_result"
    },
    {
     "data": {
      "image/png": "[encoded data removed]",
      "text/plain": [
       "<Figure size 432x288 with 1 Axes>"
      ]
     },
     "metadata": {
      "needs_background": "light"
     },
     "output_type": "display_data"
    }
   ],
   "source": [
    "sns.countplot(x=\"Post Length\",data=df)"
   ]
  },
  {
   "cell_type": "code",
   "execution_count": 8,
   "metadata": {},
   "outputs": [
    {
     "data": {
      "text/plain": [
       "<matplotlib.axes._subplots.AxesSubplot at 0x22844586a08>"
      ]
     },
     "execution_count": 8,
     "metadata": {},
     "output_type": "execute_result"
    },
    {
     "data": {
      "image/png": "[encoded data removed]",
      "text/plain": [
       "<Figure size 432x288 with 1 Axes>"
      ]
     },
     "metadata": {
      "needs_background": "light"
     },
     "output_type": "display_data"
    }
   ],
   "source": [
    "sns.lineplot(x=\"Followers count\",y=\"Impact\",data=df)"
   ]
  },
  {
   "cell_type": "code",
   "execution_count": 9,
   "metadata": {},
   "outputs": [
    {
     "data": {
      "text/plain": [
       "<matplotlib.axes._subplots.AxesSubplot at 0x228443d39c8>"
      ]
     },
     "execution_count": 9,
     "metadata": {},
     "output_type": "execute_result"
    },
    {
     "data": {
      "image/png": "[encoded data removed]",
      "text/plain": [
       "<Figure size 432x288 with 1 Axes>"
      ]
     },
     "metadata": {
      "needs_background": "light"
     },
     "output_type": "display_data"
    }
   ],
   "source": [
    "sns.lineplot(x=\"Likes\",y=\"Impact\",data=df)"
   ]
  },
  {
   "cell_type": "code",
   "execution_count": 10,
   "metadata": {},
   "outputs": [],
   "source": [
    "# Drop independent columns which are irrelevant and are object datatype.\n",
    "df=df.drop(columns=[\"Post Contet\",\"Id\",\"Published DateTime\"])"
   ]
  },
  {
   "cell_type": "code",
   "execution_count": 11,
   "metadata": {},
   "outputs": [],
   "source": [
    "#LabelEncoding for columns which are object type and holds significance in feature value.\n",
    "from sklearn.preprocessing import LabelEncoder\n",
    "def Encoder(df):\n",
    "          columnsToEncode = list(df.select_dtypes(include=['object']))\n",
    "          le = LabelEncoder()\n",
    "          for feature in columnsToEncode:\n",
    "              try:\n",
    "                  df[feature] = le.fit_transform(df[feature])\n",
    "              except:\n",
    "                  print('Error encoding '+feature)\n",
    "          return df"
   ]
  },
  {
   "cell_type": "code",
   "execution_count": 12,
   "metadata": {},
   "outputs": [
    {
     "data": {
      "text/html": [
       "<div>\n",
       "<style scoped>\n",
       "    .dataframe tbody tr th:only-of-type {\n",
       "        vertical-align: middle;\n",
       "    }\n",
       "\n",
       "    .dataframe tbody tr th {\n",
       "        vertical-align: top;\n",
       "    }\n",
       "\n",
       "    .dataframe thead th {\n",
       "        text-align: right;\n",
       "    }\n",
       "</style>\n",
       "<table border=\"1\" class=\"dataframe\">\n",
       "  <thead>\n",
       "    <tr style=\"text-align: right;\">\n",
       "      <th></th>\n",
       "      <th>Unnamed: 0</th>\n",
       "      <th>Sentiment score</th>\n",
       "      <th>Post Length</th>\n",
       "      <th>Hashtag count</th>\n",
       "      <th>Content URL count</th>\n",
       "      <th>Tweet count</th>\n",
       "      <th>Followers count</th>\n",
       "      <th>Listed Count</th>\n",
       "      <th>Media Type</th>\n",
       "      <th>Mentions Count</th>\n",
       "      <th>Post author verified</th>\n",
       "      <th>Likes</th>\n",
       "      <th>Shares</th>\n",
       "      <th>Comments</th>\n",
       "      <th>Impact</th>\n",
       "    </tr>\n",
       "  </thead>\n",
       "  <tbody>\n",
       "    <tr>\n",
       "      <th>0</th>\n",
       "      <td>41370</td>\n",
       "      <td>0.00</td>\n",
       "      <td>17.0</td>\n",
       "      <td>0.0</td>\n",
       "      <td>0.0</td>\n",
       "      <td>1660.0</td>\n",
       "      <td>133.0</td>\n",
       "      <td>0</td>\n",
       "      <td>1</td>\n",
       "      <td>0.0</td>\n",
       "      <td>0.0</td>\n",
       "      <td>0.0</td>\n",
       "      <td>0.0</td>\n",
       "      <td>0.0</td>\n",
       "      <td>0.0</td>\n",
       "    </tr>\n",
       "    <tr>\n",
       "      <th>1</th>\n",
       "      <td>27955</td>\n",
       "      <td>19.30</td>\n",
       "      <td>84.0</td>\n",
       "      <td>0.0</td>\n",
       "      <td>1.0</td>\n",
       "      <td>318924.0</td>\n",
       "      <td>1428273.0</td>\n",
       "      <td>5454</td>\n",
       "      <td>1</td>\n",
       "      <td>0.0</td>\n",
       "      <td>1.0</td>\n",
       "      <td>10.0</td>\n",
       "      <td>1.0</td>\n",
       "      <td>0.0</td>\n",
       "      <td>110.0</td>\n",
       "    </tr>\n",
       "    <tr>\n",
       "      <th>2</th>\n",
       "      <td>38151</td>\n",
       "      <td>0.00</td>\n",
       "      <td>78.0</td>\n",
       "      <td>0.0</td>\n",
       "      <td>0.0</td>\n",
       "      <td>39976.0</td>\n",
       "      <td>1560.0</td>\n",
       "      <td>0</td>\n",
       "      <td>1</td>\n",
       "      <td>0.0</td>\n",
       "      <td>0.0</td>\n",
       "      <td>0.0</td>\n",
       "      <td>0.0</td>\n",
       "      <td>0.0</td>\n",
       "      <td>0.0</td>\n",
       "    </tr>\n",
       "    <tr>\n",
       "      <th>3</th>\n",
       "      <td>13558</td>\n",
       "      <td>0.00</td>\n",
       "      <td>284.0</td>\n",
       "      <td>2.0</td>\n",
       "      <td>0.0</td>\n",
       "      <td>8045.0</td>\n",
       "      <td>27191.0</td>\n",
       "      <td>26</td>\n",
       "      <td>1</td>\n",
       "      <td>0.0</td>\n",
       "      <td>1.0</td>\n",
       "      <td>460.0</td>\n",
       "      <td>219.0</td>\n",
       "      <td>4.0</td>\n",
       "      <td>6830.0</td>\n",
       "    </tr>\n",
       "    <tr>\n",
       "      <th>4</th>\n",
       "      <td>17071</td>\n",
       "      <td>-20.00</td>\n",
       "      <td>80.0</td>\n",
       "      <td>0.0</td>\n",
       "      <td>1.0</td>\n",
       "      <td>210996.0</td>\n",
       "      <td>2385.0</td>\n",
       "      <td>0</td>\n",
       "      <td>0</td>\n",
       "      <td>0.0</td>\n",
       "      <td>0.0</td>\n",
       "      <td>0.0</td>\n",
       "      <td>0.0</td>\n",
       "      <td>0.0</td>\n",
       "      <td>0.0</td>\n",
       "    </tr>\n",
       "    <tr>\n",
       "      <th>...</th>\n",
       "      <td>...</td>\n",
       "      <td>...</td>\n",
       "      <td>...</td>\n",
       "      <td>...</td>\n",
       "      <td>...</td>\n",
       "      <td>...</td>\n",
       "      <td>...</td>\n",
       "      <td>...</td>\n",
       "      <td>...</td>\n",
       "      <td>...</td>\n",
       "      <td>...</td>\n",
       "      <td>...</td>\n",
       "      <td>...</td>\n",
       "      <td>...</td>\n",
       "      <td>...</td>\n",
       "    </tr>\n",
       "    <tr>\n",
       "      <th>49995</th>\n",
       "      <td>16546</td>\n",
       "      <td>0.00</td>\n",
       "      <td>107.0</td>\n",
       "      <td>0.0</td>\n",
       "      <td>1.0</td>\n",
       "      <td>58592.0</td>\n",
       "      <td>61369.0</td>\n",
       "      <td>0</td>\n",
       "      <td>1</td>\n",
       "      <td>0.0</td>\n",
       "      <td>0.0</td>\n",
       "      <td>0.0</td>\n",
       "      <td>0.0</td>\n",
       "      <td>0.0</td>\n",
       "      <td>0.0</td>\n",
       "    </tr>\n",
       "    <tr>\n",
       "      <th>49996</th>\n",
       "      <td>13060</td>\n",
       "      <td>0.00</td>\n",
       "      <td>123.0</td>\n",
       "      <td>0.0</td>\n",
       "      <td>1.0</td>\n",
       "      <td>69967.0</td>\n",
       "      <td>37227.0</td>\n",
       "      <td>0</td>\n",
       "      <td>1</td>\n",
       "      <td>0.0</td>\n",
       "      <td>0.0</td>\n",
       "      <td>0.0</td>\n",
       "      <td>0.0</td>\n",
       "      <td>0.0</td>\n",
       "      <td>0.0</td>\n",
       "    </tr>\n",
       "    <tr>\n",
       "      <th>49997</th>\n",
       "      <td>38818</td>\n",
       "      <td>0.00</td>\n",
       "      <td>226.0</td>\n",
       "      <td>0.0</td>\n",
       "      <td>1.0</td>\n",
       "      <td>1587.0</td>\n",
       "      <td>40.0</td>\n",
       "      <td>0</td>\n",
       "      <td>1</td>\n",
       "      <td>0.0</td>\n",
       "      <td>0.0</td>\n",
       "      <td>0.0</td>\n",
       "      <td>0.0</td>\n",
       "      <td>0.0</td>\n",
       "      <td>0.0</td>\n",
       "    </tr>\n",
       "    <tr>\n",
       "      <th>49998</th>\n",
       "      <td>4545</td>\n",
       "      <td>-10.18</td>\n",
       "      <td>303.0</td>\n",
       "      <td>2.0</td>\n",
       "      <td>0.0</td>\n",
       "      <td>593326.0</td>\n",
       "      <td>450949.0</td>\n",
       "      <td>1406</td>\n",
       "      <td>0</td>\n",
       "      <td>0.0</td>\n",
       "      <td>1.0</td>\n",
       "      <td>3.0</td>\n",
       "      <td>0.0</td>\n",
       "      <td>0.0</td>\n",
       "      <td>30.0</td>\n",
       "    </tr>\n",
       "    <tr>\n",
       "      <th>49999</th>\n",
       "      <td>15075</td>\n",
       "      <td>0.00</td>\n",
       "      <td>250.0</td>\n",
       "      <td>7.0</td>\n",
       "      <td>1.0</td>\n",
       "      <td>5991.0</td>\n",
       "      <td>4385.0</td>\n",
       "      <td>0</td>\n",
       "      <td>0</td>\n",
       "      <td>0.0</td>\n",
       "      <td>0.0</td>\n",
       "      <td>0.0</td>\n",
       "      <td>0.0</td>\n",
       "      <td>0.0</td>\n",
       "      <td>0.0</td>\n",
       "    </tr>\n",
       "  </tbody>\n",
       "</table>\n",
       "<p>50000 rows × 15 columns</p>\n",
       "</div>"
      ],
      "text/plain": [
       "       Unnamed: 0  Sentiment score  Post Length  Hashtag count  \\\n",
       "0           41370             0.00         17.0            0.0   \n",
       "1           27955            19.30         84.0            0.0   \n",
       "2           38151             0.00         78.0            0.0   \n",
       "3           13558             0.00        284.0            2.0   \n",
       "4           17071           -20.00         80.0            0.0   \n",
       "...           ...              ...          ...            ...   \n",
       "49995       16546             0.00        107.0            0.0   \n",
       "49996       13060             0.00        123.0            0.0   \n",
       "49997       38818             0.00        226.0            0.0   \n",
       "49998        4545           -10.18        303.0            2.0   \n",
       "49999       15075             0.00        250.0            7.0   \n",
       "\n",
       "       Content URL count  Tweet count  Followers count  Listed Count  \\\n",
       "0                    0.0       1660.0            133.0             0   \n",
       "1                    1.0     318924.0        1428273.0          5454   \n",
       "2                    0.0      39976.0           1560.0             0   \n",
       "3                    0.0       8045.0          27191.0            26   \n",
       "4                    1.0     210996.0           2385.0             0   \n",
       "...                  ...          ...              ...           ...   \n",
       "49995                1.0      58592.0          61369.0             0   \n",
       "49996                1.0      69967.0          37227.0             0   \n",
       "49997                1.0       1587.0             40.0             0   \n",
       "49998                0.0     593326.0         450949.0          1406   \n",
       "49999                1.0       5991.0           4385.0             0   \n",
       "\n",
       "       Media Type  Mentions Count  Post author verified  Likes  Shares  \\\n",
       "0               1             0.0                   0.0    0.0     0.0   \n",
       "1               1             0.0                   1.0   10.0     1.0   \n",
       "2               1             0.0                   0.0    0.0     0.0   \n",
       "3               1             0.0                   1.0  460.0   219.0   \n",
       "4               0             0.0                   0.0    0.0     0.0   \n",
       "...           ...             ...                   ...    ...     ...   \n",
       "49995           1             0.0                   0.0    0.0     0.0   \n",
       "49996           1             0.0                   0.0    0.0     0.0   \n",
       "49997           1             0.0                   0.0    0.0     0.0   \n",
       "49998           0             0.0                   1.0    3.0     0.0   \n",
       "49999           0             0.0                   0.0    0.0     0.0   \n",
       "\n",
       "       Comments  Impact  \n",
       "0           0.0     0.0  \n",
       "1           0.0   110.0  \n",
       "2           0.0     0.0  \n",
       "3           4.0  6830.0  \n",
       "4           0.0     0.0  \n",
       "...         ...     ...  \n",
       "49995       0.0     0.0  \n",
       "49996       0.0     0.0  \n",
       "49997       0.0     0.0  \n",
       "49998       0.0    30.0  \n",
       "49999       0.0     0.0  \n",
       "\n",
       "[50000 rows x 15 columns]"
      ]
     },
     "execution_count": 12,
     "metadata": {},
     "output_type": "execute_result"
    }
   ],
   "source": [
    "Encoder(df)"
   ]
  },
  {
   "cell_type": "code",
   "execution_count": 13,
   "metadata": {},
   "outputs": [
    {
     "data": {
      "text/plain": [
       "0        1\n",
       "1        1\n",
       "2        1\n",
       "3        1\n",
       "4        0\n",
       "        ..\n",
       "49995    1\n",
       "49996    1\n",
       "49997    1\n",
       "49998    0\n",
       "49999    0\n",
       "Name: Media Type, Length: 50000, dtype: int32"
      ]
     },
     "execution_count": 13,
     "metadata": {},
     "output_type": "execute_result"
    }
   ],
   "source": [
    "#Media Type column labelled\n",
    "df['Media Type']"
   ]
  },
  {
   "cell_type": "code",
   "execution_count": 14,
   "metadata": {},
   "outputs": [],
   "source": [
    "#Applying Standard Scaler on dataset.\n",
    "from sklearn.preprocessing import StandardScaler\n",
    "scaled_features = StandardScaler().fit_transform(df.values)\n",
    "scaled_features_df = pd.DataFrame(scaled_features, index=df.index, columns=df.columns)"
   ]
  },
  {
   "cell_type": "code",
   "execution_count": 15,
   "metadata": {},
   "outputs": [],
   "source": [
    "#Splitting columns based on independent column and dependent. \n",
    "x = scaled_features_df.iloc[:,:-1].values\n",
    "y = scaled_features_df['Impact'].values\n"
   ]
  },
  {
   "cell_type": "code",
   "execution_count": 16,
   "metadata": {},
   "outputs": [
    {
     "data": {
      "text/plain": [
       "array([[ 2.62234687, -0.10241955, -1.74076817, ..., -0.36562049,\n",
       "        -0.31014339, -0.03018027],\n",
       "       [ 1.32788712,  1.7468343 , -0.89372431, ..., -0.36441011,\n",
       "        -0.30982259, -0.03018027],\n",
       "       [ 2.31173443, -0.10241955, -0.96957899, ..., -0.36562049,\n",
       "        -0.31014339, -0.03018027],\n",
       "       ...,\n",
       "       [ 2.37609556, -0.10241955,  0.90150296, ..., -0.36562049,\n",
       "        -0.31014339, -0.03018027],\n",
       "       [-0.93102474, -1.0778291 ,  1.87497127, ..., -0.36525737,\n",
       "        -0.31014339, -0.03018027],\n",
       "       [ 0.08505137, -0.10241955,  1.20492165, ..., -0.36562049,\n",
       "        -0.31014339, -0.03018027]])"
      ]
     },
     "execution_count": 16,
     "metadata": {},
     "output_type": "execute_result"
    }
   ],
   "source": [
    "x"
   ]
  },
  {
   "cell_type": "code",
   "execution_count": 17,
   "metadata": {},
   "outputs": [],
   "source": [
    "#Splitting dataset into train test split\n",
    "from sklearn.model_selection import train_test_split\n",
    "x_train, x_test, y_train, y_test= train_test_split(x, y, test_size= 0.25, random_state=0)\n",
    "from sklearn.metrics import mean_squared_error as mse\n"
   ]
  },
  {
   "cell_type": "code",
   "execution_count": 18,
   "metadata": {},
   "outputs": [
    {
     "name": "stdout",
     "output_type": "stream",
     "text": [
      "Root mean squared Error of Linear Regression on train set: 2.2593725600683368e-09\n",
      "Root mean squared Error of Linear Regression on test set: 2.470665661863774e-09\n"
     ]
    }
   ],
   "source": [
    "#Model1---->Linear Regression\n",
    "from sklearn.linear_model import LinearRegression\n",
    "#Instantiate Linear Regression as lr\n",
    "le = LinearRegression()\n",
    "#Fit lr to training set\n",
    "le.fit(x_train,y_train)\n",
    "#Predict train-test label set\n",
    "y_pred_train = le.predict(x_train)\n",
    "y_pred = le.predict(x_test)\n",
    "#Compute train-test-set mse\n",
    "mse_lr_train = mse(y_pred_train,y_train)\n",
    "mse_lr = mse(y_pred,y_test)\n",
    "#Compute test-set root mean squared error\n",
    "rmse_lr_train = mse_lr_train**1/2\n",
    "rmse_lr = mse_lr**1/2\n",
    "print(\"Root mean squared Error of Linear Regression on train set:\",rmse_lr_train)\n",
    "print(\"Root mean squared Error of Linear Regression on test set:\",rmse_lr)\n",
    "Intercept=le.intercept_\n",
    "Coefficients=le.coef_\n"
   ]
  },
  {
   "cell_type": "code",
   "execution_count": 19,
   "metadata": {},
   "outputs": [
    {
     "name": "stdout",
     "output_type": "stream",
     "text": [
      "Coefficiets and intercept of linear regression model [-3.53907103e-07  2.38320366e-07  2.93783435e-07  3.66072535e-07\n",
      " -8.04137683e-07  3.83384595e-08 -9.89782456e-07  1.43783423e-06\n",
      "  3.93565087e-07  8.79451003e-08 -8.32150767e-07  8.01541425e-01\n",
      "  3.02419566e-01  5.27446331e-02] 2.3318788418442982e-08\n"
     ]
    }
   ],
   "source": [
    "print(\"Coefficiets and intercept of linear regression model\",Coefficients,Intercept)"
   ]
  },
  {
   "cell_type": "code",
   "execution_count": 20,
   "metadata": {},
   "outputs": [
    {
     "name": "stdout",
     "output_type": "stream",
     "text": [
      "Root mean squared Error of Decision Tree on train set: 0.1994306191840794\n",
      "Root mean squared Error of Decision Tree on test set: 0.21083972206734342\n"
     ]
    }
   ],
   "source": [
    "#Model2----->Decision Tree\n",
    "#Fitting Decision Tree classifier to the training set  \n",
    "from sklearn.tree import DecisionTreeRegressor\n",
    "# Instantiate Decision Tree Regressor as dt\n",
    "dt = DecisionTreeRegressor(max_depth=4,min_samples_leaf=0.1,random_state=3)\n",
    "#Fit dt to training set\n",
    "dt.fit(x_train,y_train)\n",
    "#Predict train-test label set\n",
    "y_pred_train = dt.predict(x_train)\n",
    "y_pred=dt.predict(x_test)\n",
    "#Compute train-test-set mse\n",
    "mse_dt_train = mse(y_pred_train,y_train)\n",
    "mse_dt = mse(y_pred,y_test)\n",
    "#Compute root mean squared error\n",
    "rmse_dt_train = mse_dt_train**1/2\n",
    "rmse_dt = mse_dt**1/2\n",
    "print(\"Root mean squared Error of Decision Tree on train set:\",rmse_dt_train)\n",
    "print(\"Root mean squared Error of Decision Tree on test set:\",rmse_dt)\n"
   ]
  },
  {
   "cell_type": "code",
   "execution_count": 21,
   "metadata": {},
   "outputs": [
    {
     "name": "stdout",
     "output_type": "stream",
     "text": [
      "Root mean squared Error of Decision Tree on train set with min_samples_leaf=2: 0.016556581282166607\n",
      "Root mean squared Error of Decision Tree on test set with min_samples_leaf=2: 0.016387248450035845\n"
     ]
    }
   ],
   "source": [
    "#Model2----->Decision Tree with hyperparameter tuning min_sample_leaf=2\n",
    "#Fitting Decision Tree classifier to the training set  \n",
    "from sklearn.tree import DecisionTreeRegressor\n",
    "# Instantiate Decision Tree Regressor as dt\n",
    "dt = DecisionTreeRegressor(max_depth=4,min_samples_leaf=2,random_state=3)\n",
    "#Fit dt to training set\n",
    "dt.fit(x_train,y_train)\n",
    "#Predict train-test label set\n",
    "y_pred_train = dt.predict(x_train)\n",
    "y_pred=dt.predict(x_test)\n",
    "#Compute train-test-set mse\n",
    "mse_dt_train = mse(y_pred_train,y_train)\n",
    "mse_dt = mse(y_pred,y_test)\n",
    "#Compute root mean squared error\n",
    "rmse_dt_train = mse_dt_train**1/2\n",
    "rmse_dt = mse_dt**1/2\n",
    "print(\"Root mean squared Error of Decision Tree on train set with min_samples_leaf=2:\",rmse_dt_train)\n",
    "print(\"Root mean squared Error of Decision Tree on test set with min_samples_leaf=2:\",rmse_dt)\n"
   ]
  },
  {
   "cell_type": "code",
   "execution_count": 22,
   "metadata": {},
   "outputs": [
    {
     "name": "stdout",
     "output_type": "stream",
     "text": [
      "Root mean squared Error of Decision Tree on train set with min_samples_leaf=0.01: 0.03313143859597727\n",
      "Root mean squared Error of Decision Tree on test set with min_samples_leaf=0.01: 0.03149226655258652\n"
     ]
    }
   ],
   "source": [
    "#Model2----->Decision Tree with hyperparameter tuning min_sample_leaf=0.01\n",
    "#Fitting Decision Tree classifier to the training set  \n",
    "from sklearn.tree import DecisionTreeRegressor\n",
    "# Instantiate Decision Tree Regressor as dt\n",
    "dt = DecisionTreeRegressor(max_depth=4,min_samples_leaf=0.01,random_state=3)\n",
    "#Fit dt to training set\n",
    "dt.fit(x_train,y_train)\n",
    "#Predict train-test label set\n",
    "y_pred_train = dt.predict(x_train)\n",
    "y_pred=dt.predict(x_test)\n",
    "#Compute train-test-set mse\n",
    "mse_dt_train = mse(y_pred_train,y_train)\n",
    "mse_dt = mse(y_pred,y_test)\n",
    "#Compute root mean squared error\n",
    "rmse_dt_train = mse_dt_train**1/2\n",
    "rmse_dt = mse_dt**1/2\n",
    "print(\"Root mean squared Error of Decision Tree on train set with min_samples_leaf=0.01:\",rmse_dt_train)\n",
    "print(\"Root mean squared Error of Decision Tree on test set with min_samples_leaf=0.01:\",rmse_dt)\n"
   ]
  },
  {
   "cell_type": "code",
   "execution_count": 23,
   "metadata": {},
   "outputs": [],
   "source": [
    "#Pruning in Decision Tree to remove unwanted columns for better prediction.\n",
    "scaled_features_df1 = scaled_features_df.drop(columns=\"Post Length\")"
   ]
  },
  {
   "cell_type": "code",
   "execution_count": 24,
   "metadata": {},
   "outputs": [
    {
     "name": "stdout",
     "output_type": "stream",
     "text": [
      "Root mean squared Error of Pruned Decision Tree on test set: 0.016556581282166607\n",
      "Root mean squared Error of Pruned Decision Tree on test set: 0.01638724845003585\n"
     ]
    }
   ],
   "source": [
    "#Applying decision tree on pruned dataset.\n",
    "x1 = scaled_features_df1.iloc[:,:-1].values\n",
    "y1 = scaled_features_df1['Impact'].values\n",
    "x1_train, x1_test, y1_train, y1_test= train_test_split(x1, y1, test_size= 0.25, random_state=0)\n",
    "# Instantiate Decision Tree Regressor as dt\n",
    "dt = DecisionTreeRegressor(max_depth=4,min_samples_leaf=2,random_state=3)\n",
    "#Fit dt to training set\n",
    "dt.fit(x1_train,y1_train)\n",
    "#Predict train-test label set\n",
    "y1_pred_train1=dt.predict(x1_train)\n",
    "y1_pred=dt.predict(x1_test)\n",
    "#Compute train-test-set mse\n",
    "mse_dt_train1 = mse(y1_pred_train1,y_train)\n",
    "mse_dt = mse(y1_pred,y1_test)\n",
    "#Compute root mean squared error\n",
    "rmse_dt_train1 = mse_dt_train1**1/2\n",
    "rmse_dt1 = mse_dt**1/2\n",
    "print(\"Root mean squared Error of Pruned Decision Tree on test set:\",rmse_dt_train1)\n",
    "print(\"Root mean squared Error of Pruned Decision Tree on test set:\",rmse_dt1)\n",
    "\n"
   ]
  },
  {
   "cell_type": "code",
   "execution_count": 25,
   "metadata": {},
   "outputs": [
    {
     "name": "stdout",
     "output_type": "stream",
     "text": [
      "Root mean squared Error of Mutlilayer Preceptron on train-set: 0.00016865410544614724\n",
      "Root mean squared Error of Mutlilayer Preceptron on test-set: 0.00017698433915785798\n"
     ]
    }
   ],
   "source": [
    "from sklearn.neural_network import MLPRegressor\n",
    "#Instantiate Multilayer Preceptron as mlp and fit into training set label.\n",
    "regr = MLPRegressor(random_state=1, max_iter=100).fit(x_train, y_train)\n",
    "#Predict on train-test label set\n",
    "y_pred_train=regr.predict(x_train)\n",
    "y_pred=regr.predict(x_test)\n",
    "#Compute test set mean squared error(mse)\n",
    "mse_mlp_train = mse(y_pred_train,y_train)\n",
    "mse_mlp = mse(y_pred,y_test)\n",
    "#Compute root mean squared error.\n",
    "mse_mlp_train = mse_mlp_train**1/2\n",
    "mse_mlp =mse_mlp**1/2\n",
    "print(\"Root mean squared Error of Mutlilayer Preceptron on train-set:\",mse_mlp_train)\n",
    "print(\"Root mean squared Error of Mutlilayer Preceptron on test-set:\",mse_mlp)\n"
   ]
  },
  {
   "cell_type": "code",
   "execution_count": 26,
   "metadata": {},
   "outputs": [
    {
     "name": "stdout",
     "output_type": "stream",
     "text": [
      "Root mean squared Error of Mutlilayer Preceptron with hyper-parameter tuning at max_iter=100 and learning_rate=0.001 on train set: 0.00017698433915785798\n",
      "Root mean squared Error of Mutlilayer Preceptron with hyper-parameter tuning at max_iter=100 and learning_rate=0.001 on test set: 0.00017698433915785798\n"
     ]
    }
   ],
   "source": [
    "#Applying neural network on scaled_features_df with hyperparameter tuning in max_iter=100 and learning_rate=0.001\n",
    "from sklearn.neural_network import MLPRegressor\n",
    "#Instantiate Multilayer Preceptron as mlp and fit into training set label.\n",
    "regr = MLPRegressor(random_state=1, max_iter=100,learning_rate_init=0.001).fit(x_train, y_train)\n",
    "#Predict on train-test label set\n",
    "y_pred_train=regr.predict(x_train)\n",
    "y_pred=regr.predict(x_test)\n",
    "#Compute train-test set mean squared error(mse)\n",
    "mse_mlp_train = mse(y_pred_train,y_train)\n",
    "mse_mlp = mse(y_pred,y_test)\n",
    "#Compute root mean squared error.\n",
    "rmse_mlp_train = mse_mlp_train**1/2\n",
    "rmse_mlp = mse_mlp**1/2\n",
    "print(\"Root mean squared Error of Mutlilayer Preceptron with hyper-parameter tuning at max_iter=100 and learning_rate=0.001 on train set:\",rmse_mlp)\n",
    "print(\"Root mean squared Error of Mutlilayer Preceptron with hyper-parameter tuning at max_iter=100 and learning_rate=0.001 on test set:\",rmse_mlp)\n"
   ]
  },
  {
   "cell_type": "code",
   "execution_count": 27,
   "metadata": {},
   "outputs": [
    {
     "name": "stdout",
     "output_type": "stream",
     "text": [
      "Root mean squared Error of Mutlilayer Preceptron with hyper-parameter tuning at max_iter=20 and learning_rate=0.1 on train set: 0.002911266097995051\n",
      "Root mean squared Error of Mutlilayer Preceptron with hyper-parameter tuning at max_iter=20 and learning_rate=0.1 on test set: 0.002911266097995051\n"
     ]
    }
   ],
   "source": [
    "#Applying neural network on scaled_features_df with hyperparameter tuning in max_iter=20 and learning_rate=0.1\n",
    "from sklearn.neural_network import MLPRegressor\n",
    "#Instantiate Multilayer Preceptron as mlp and fit into training set label.\n",
    "regr = MLPRegressor(random_state=1, max_iter=20,learning_rate_init=0.1).fit(x_train, y_train)\n",
    "#Predict on train-test label set\n",
    "y_pred_train=regr.predict(x_train)\n",
    "y_pred=regr.predict(x_test)\n",
    "#Compute train-test set mean squared error(mse)\n",
    "mse_mlp_train = mse(y_pred_train,y_train)\n",
    "mse_mlp = mse(y_pred,y_test)\n",
    "#Compute root mean squared error.\n",
    "rmse_mlp_train = mse_mlp_train**1/2\n",
    "rmse_mlp = mse_mlp**1/2\n",
    "print(\"Root mean squared Error of Mutlilayer Preceptron with hyper-parameter tuning at max_iter=20 and learning_rate=0.1 on train set:\",rmse_mlp)\n",
    "print(\"Root mean squared Error of Mutlilayer Preceptron with hyper-parameter tuning at max_iter=20 and learning_rate=0.1 on test set:\",rmse_mlp)\n"
   ]
  },
  {
   "cell_type": "code",
   "execution_count": 28,
   "metadata": {},
   "outputs": [
    {
     "name": "stdout",
     "output_type": "stream",
     "text": [
      "Root mean squared Error of Mutlilayer Preceptron with hyper-parameter tuning at max_iter=200 and learning_rate=0.01 on train set: 9.873544674868278e-05\n",
      "Root mean squared Error of Mutlilayer Preceptron with hyper-parameter tuning at max_iter=200 and learning_rate=0.01 on test set: 9.873544674868278e-05\n"
     ]
    }
   ],
   "source": [
    "#Applying neural network on scaled_features_df with hyperparameter tuning in max_iter=200 and learning_rate_init=0.01\n",
    "from sklearn.neural_network import MLPRegressor\n",
    "#Instantiate Multilayer Preceptron as mlp and fit into training set label.\n",
    "regr = MLPRegressor(random_state=1, max_iter=200,learning_rate_init=0.01).fit(x_train, y_train)\n",
    "#Predict on train-test label set\n",
    "y_pred_train=regr.predict(x_train)\n",
    "y_pred=regr.predict(x_test)\n",
    "#Compute train-test set mean squared error(mse)\n",
    "mse_mlp_train = mse(y_pred_train,y_train)\n",
    "mse_mlp = mse(y_pred,y_test)\n",
    "#Compute root mean squared error.\n",
    "rmse_mlp_train = mse_mlp_train**1/2\n",
    "rmse_mlp = mse_mlp**1/2\n",
    "print(\"Root mean squared Error of Mutlilayer Preceptron with hyper-parameter tuning at max_iter=200 and learning_rate=0.01 on train set:\",rmse_mlp)\n",
    "print(\"Root mean squared Error of Mutlilayer Preceptron with hyper-parameter tuning at max_iter=200 and learning_rate=0.01 on test set:\",rmse_mlp)\n"
   ]
  },
  {
   "cell_type": "code",
   "execution_count": 29,
   "metadata": {},
   "outputs": [
    {
     "name": "stdout",
     "output_type": "stream",
     "text": [
      "3.7.6\n"
     ]
    }
   ],
   "source": [
    "from platform import python_version\n",
    "\n",
    "print(python_version())"
   ]
  }
 ],
 "metadata": {
  "kernelspec": {
   "display_name": "Python 3",
   "language": "python",
   "name": "python3"
  },
  "language_info": {
   "codemirror_mode": {
    "name": "ipython",
    "version": 3
   },
   "file_extension": ".py",
   "mimetype": "text/x-python",
   "name": "python",
   "nbconvert_exporter": "python",
   "pygments_lexer": "ipython3",
   "version": "3.7.6"
  }
 },
 "nbformat": 4,
 "nbformat_minor": 4
}
